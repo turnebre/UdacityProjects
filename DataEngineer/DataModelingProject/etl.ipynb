{
 "cells": [
  {
   "cell_type": "markdown",
   "source": [
    "# ETL Processes\n",
    "Use this notebook to develop the ETL process for each of your tables before completing the `etl.py` file to load the whole datasets."
   ],
   "metadata": {}
  },
  {
   "cell_type": "code",
   "execution_count": 73,
   "source": [
    "import os\r\n",
    "import glob\r\n",
    "import psycopg2\r\n",
    "import pandas as pd\r\n",
    "from sql_queries import *"
   ],
   "outputs": [],
   "metadata": {}
  },
  {
   "cell_type": "code",
   "execution_count": 74,
   "source": [
    "conn = psycopg2.connect(\"host=127.0.0.1 dbname=sparkifydb user=postgres password=Databases!\")\r\n",
    "cur = conn.cursor()"
   ],
   "outputs": [],
   "metadata": {}
  },
  {
   "cell_type": "code",
   "execution_count": 75,
   "source": [
    "def get_files(filepath):\r\n",
    "    all_files = []\r\n",
    "    for root, dirs, files in os.walk(filepath):\r\n",
    "        files = glob.glob(os.path.join(root,'*.json'))\r\n",
    "        for f in files :\r\n",
    "            all_files.append(os.path.abspath(f))\r\n",
    "    \r\n",
    "    return all_files"
   ],
   "outputs": [],
   "metadata": {}
  },
  {
   "cell_type": "markdown",
   "source": [
    "# Process `song_data`\r\n",
    "In this first part, you'll perform ETL on the first dataset, `song_data`, to create the `songs` and `artists` dimensional tables.\r\n",
    "\r\n",
    "Let's perform ETL on a single song file and load a single record into each table to start.\r\n",
    "- Use the `get_files` function provided above to get a list of all song JSON files in `data/song_data`\r\n",
    "- Select the first song in this list\r\n",
    "- Read the song file and view the data"
   ],
   "metadata": {}
  },
  {
   "cell_type": "code",
   "execution_count": 76,
   "source": [
    "song_files = get_files(r\"data/song_data\")\r\n",
    "song_files"
   ],
   "outputs": [
    {
     "output_type": "execute_result",
     "data": {
      "text/plain": [
       "['c:\\\\Users\\\\brend\\\\Desktop\\\\UdacityProjects\\\\DataEngineer\\\\DataModelingProject\\\\data\\\\song_data\\\\A\\\\A\\\\A\\\\TRAAAAW128F429D538.json',\n",
       " 'c:\\\\Users\\\\brend\\\\Desktop\\\\UdacityProjects\\\\DataEngineer\\\\DataModelingProject\\\\data\\\\song_data\\\\A\\\\A\\\\A\\\\TRAAABD128F429CF47.json',\n",
       " 'c:\\\\Users\\\\brend\\\\Desktop\\\\UdacityProjects\\\\DataEngineer\\\\DataModelingProject\\\\data\\\\song_data\\\\A\\\\A\\\\A\\\\TRAAADZ128F9348C2E.json',\n",
       " 'c:\\\\Users\\\\brend\\\\Desktop\\\\UdacityProjects\\\\DataEngineer\\\\DataModelingProject\\\\data\\\\song_data\\\\A\\\\A\\\\A\\\\TRAAAEF128F4273421.json',\n",
       " 'c:\\\\Users\\\\brend\\\\Desktop\\\\UdacityProjects\\\\DataEngineer\\\\DataModelingProject\\\\data\\\\song_data\\\\A\\\\A\\\\A\\\\TRAAAFD128F92F423A.json',\n",
       " 'c:\\\\Users\\\\brend\\\\Desktop\\\\UdacityProjects\\\\DataEngineer\\\\DataModelingProject\\\\data\\\\song_data\\\\A\\\\A\\\\A\\\\TRAAAMO128F1481E7F.json',\n",
       " 'c:\\\\Users\\\\brend\\\\Desktop\\\\UdacityProjects\\\\DataEngineer\\\\DataModelingProject\\\\data\\\\song_data\\\\A\\\\A\\\\A\\\\TRAAAMQ128F1460CD3.json',\n",
       " 'c:\\\\Users\\\\brend\\\\Desktop\\\\UdacityProjects\\\\DataEngineer\\\\DataModelingProject\\\\data\\\\song_data\\\\A\\\\A\\\\A\\\\TRAAAPK128E0786D96.json',\n",
       " 'c:\\\\Users\\\\brend\\\\Desktop\\\\UdacityProjects\\\\DataEngineer\\\\DataModelingProject\\\\data\\\\song_data\\\\A\\\\A\\\\A\\\\TRAAARJ128F9320760.json',\n",
       " 'c:\\\\Users\\\\brend\\\\Desktop\\\\UdacityProjects\\\\DataEngineer\\\\DataModelingProject\\\\data\\\\song_data\\\\A\\\\A\\\\A\\\\TRAAAVG12903CFA543.json',\n",
       " 'c:\\\\Users\\\\brend\\\\Desktop\\\\UdacityProjects\\\\DataEngineer\\\\DataModelingProject\\\\data\\\\song_data\\\\A\\\\A\\\\A\\\\TRAAAVO128F93133D4.json',\n",
       " 'c:\\\\Users\\\\brend\\\\Desktop\\\\UdacityProjects\\\\DataEngineer\\\\DataModelingProject\\\\data\\\\song_data\\\\A\\\\A\\\\B\\\\TRAABCL128F4286650.json',\n",
       " 'c:\\\\Users\\\\brend\\\\Desktop\\\\UdacityProjects\\\\DataEngineer\\\\DataModelingProject\\\\data\\\\song_data\\\\A\\\\A\\\\B\\\\TRAABDL12903CAABBA.json',\n",
       " 'c:\\\\Users\\\\brend\\\\Desktop\\\\UdacityProjects\\\\DataEngineer\\\\DataModelingProject\\\\data\\\\song_data\\\\A\\\\A\\\\B\\\\TRAABJL12903CDCF1A.json',\n",
       " 'c:\\\\Users\\\\brend\\\\Desktop\\\\UdacityProjects\\\\DataEngineer\\\\DataModelingProject\\\\data\\\\song_data\\\\A\\\\A\\\\B\\\\TRAABJV128F1460C49.json',\n",
       " 'c:\\\\Users\\\\brend\\\\Desktop\\\\UdacityProjects\\\\DataEngineer\\\\DataModelingProject\\\\data\\\\song_data\\\\A\\\\A\\\\B\\\\TRAABLR128F423B7E3.json',\n",
       " 'c:\\\\Users\\\\brend\\\\Desktop\\\\UdacityProjects\\\\DataEngineer\\\\DataModelingProject\\\\data\\\\song_data\\\\A\\\\A\\\\B\\\\TRAABNV128F425CEE1.json',\n",
       " 'c:\\\\Users\\\\brend\\\\Desktop\\\\UdacityProjects\\\\DataEngineer\\\\DataModelingProject\\\\data\\\\song_data\\\\A\\\\A\\\\B\\\\TRAABRB128F9306DD5.json',\n",
       " 'c:\\\\Users\\\\brend\\\\Desktop\\\\UdacityProjects\\\\DataEngineer\\\\DataModelingProject\\\\data\\\\song_data\\\\A\\\\A\\\\B\\\\TRAABVM128F92CA9DC.json',\n",
       " 'c:\\\\Users\\\\brend\\\\Desktop\\\\UdacityProjects\\\\DataEngineer\\\\DataModelingProject\\\\data\\\\song_data\\\\A\\\\A\\\\B\\\\TRAABXG128F9318EBD.json',\n",
       " 'c:\\\\Users\\\\brend\\\\Desktop\\\\UdacityProjects\\\\DataEngineer\\\\DataModelingProject\\\\data\\\\song_data\\\\A\\\\A\\\\B\\\\TRAABYN12903CFD305.json',\n",
       " 'c:\\\\Users\\\\brend\\\\Desktop\\\\UdacityProjects\\\\DataEngineer\\\\DataModelingProject\\\\data\\\\song_data\\\\A\\\\A\\\\B\\\\TRAABYW128F4244559.json',\n",
       " 'c:\\\\Users\\\\brend\\\\Desktop\\\\UdacityProjects\\\\DataEngineer\\\\DataModelingProject\\\\data\\\\song_data\\\\A\\\\A\\\\C\\\\TRAACCG128F92E8A55.json',\n",
       " 'c:\\\\Users\\\\brend\\\\Desktop\\\\UdacityProjects\\\\DataEngineer\\\\DataModelingProject\\\\data\\\\song_data\\\\A\\\\A\\\\C\\\\TRAACER128F4290F96.json',\n",
       " 'c:\\\\Users\\\\brend\\\\Desktop\\\\UdacityProjects\\\\DataEngineer\\\\DataModelingProject\\\\data\\\\song_data\\\\A\\\\A\\\\C\\\\TRAACFV128F935E50B.json',\n",
       " 'c:\\\\Users\\\\brend\\\\Desktop\\\\UdacityProjects\\\\DataEngineer\\\\DataModelingProject\\\\data\\\\song_data\\\\A\\\\A\\\\C\\\\TRAACHN128F1489601.json',\n",
       " 'c:\\\\Users\\\\brend\\\\Desktop\\\\UdacityProjects\\\\DataEngineer\\\\DataModelingProject\\\\data\\\\song_data\\\\A\\\\A\\\\C\\\\TRAACIW12903CC0F6D.json',\n",
       " 'c:\\\\Users\\\\brend\\\\Desktop\\\\UdacityProjects\\\\DataEngineer\\\\DataModelingProject\\\\data\\\\song_data\\\\A\\\\A\\\\C\\\\TRAACLV128F427E123.json',\n",
       " 'c:\\\\Users\\\\brend\\\\Desktop\\\\UdacityProjects\\\\DataEngineer\\\\DataModelingProject\\\\data\\\\song_data\\\\A\\\\A\\\\C\\\\TRAACNS128F14A2DF5.json',\n",
       " 'c:\\\\Users\\\\brend\\\\Desktop\\\\UdacityProjects\\\\DataEngineer\\\\DataModelingProject\\\\data\\\\song_data\\\\A\\\\A\\\\C\\\\TRAACOW128F933E35F.json',\n",
       " 'c:\\\\Users\\\\brend\\\\Desktop\\\\UdacityProjects\\\\DataEngineer\\\\DataModelingProject\\\\data\\\\song_data\\\\A\\\\A\\\\C\\\\TRAACPE128F421C1B9.json',\n",
       " 'c:\\\\Users\\\\brend\\\\Desktop\\\\UdacityProjects\\\\DataEngineer\\\\DataModelingProject\\\\data\\\\song_data\\\\A\\\\A\\\\C\\\\TRAACQT128F9331780.json',\n",
       " 'c:\\\\Users\\\\brend\\\\Desktop\\\\UdacityProjects\\\\DataEngineer\\\\DataModelingProject\\\\data\\\\song_data\\\\A\\\\A\\\\C\\\\TRAACSL128F93462F4.json',\n",
       " 'c:\\\\Users\\\\brend\\\\Desktop\\\\UdacityProjects\\\\DataEngineer\\\\DataModelingProject\\\\data\\\\song_data\\\\A\\\\A\\\\C\\\\TRAACTB12903CAAF15.json',\n",
       " 'c:\\\\Users\\\\brend\\\\Desktop\\\\UdacityProjects\\\\DataEngineer\\\\DataModelingProject\\\\data\\\\song_data\\\\A\\\\A\\\\C\\\\TRAACVS128E078BE39.json',\n",
       " 'c:\\\\Users\\\\brend\\\\Desktop\\\\UdacityProjects\\\\DataEngineer\\\\DataModelingProject\\\\data\\\\song_data\\\\A\\\\A\\\\C\\\\TRAACZK128F4243829.json',\n",
       " 'c:\\\\Users\\\\brend\\\\Desktop\\\\UdacityProjects\\\\DataEngineer\\\\DataModelingProject\\\\data\\\\song_data\\\\A\\\\B\\\\A\\\\TRABACN128F425B784.json',\n",
       " 'c:\\\\Users\\\\brend\\\\Desktop\\\\UdacityProjects\\\\DataEngineer\\\\DataModelingProject\\\\data\\\\song_data\\\\A\\\\B\\\\A\\\\TRABAFJ128F42AF24E.json',\n",
       " 'c:\\\\Users\\\\brend\\\\Desktop\\\\UdacityProjects\\\\DataEngineer\\\\DataModelingProject\\\\data\\\\song_data\\\\A\\\\B\\\\A\\\\TRABAFP128F931E9A1.json',\n",
       " 'c:\\\\Users\\\\brend\\\\Desktop\\\\UdacityProjects\\\\DataEngineer\\\\DataModelingProject\\\\data\\\\song_data\\\\A\\\\B\\\\A\\\\TRABAIO128F42938F9.json',\n",
       " 'c:\\\\Users\\\\brend\\\\Desktop\\\\UdacityProjects\\\\DataEngineer\\\\DataModelingProject\\\\data\\\\song_data\\\\A\\\\B\\\\A\\\\TRABATO128F42627E9.json',\n",
       " 'c:\\\\Users\\\\brend\\\\Desktop\\\\UdacityProjects\\\\DataEngineer\\\\DataModelingProject\\\\data\\\\song_data\\\\A\\\\B\\\\A\\\\TRABAVQ12903CBF7E0.json',\n",
       " 'c:\\\\Users\\\\brend\\\\Desktop\\\\UdacityProjects\\\\DataEngineer\\\\DataModelingProject\\\\data\\\\song_data\\\\A\\\\B\\\\A\\\\TRABAWW128F4250A31.json',\n",
       " 'c:\\\\Users\\\\brend\\\\Desktop\\\\UdacityProjects\\\\DataEngineer\\\\DataModelingProject\\\\data\\\\song_data\\\\A\\\\B\\\\A\\\\TRABAXL128F424FC50.json',\n",
       " 'c:\\\\Users\\\\brend\\\\Desktop\\\\UdacityProjects\\\\DataEngineer\\\\DataModelingProject\\\\data\\\\song_data\\\\A\\\\B\\\\A\\\\TRABAXR128F426515F.json',\n",
       " 'c:\\\\Users\\\\brend\\\\Desktop\\\\UdacityProjects\\\\DataEngineer\\\\DataModelingProject\\\\data\\\\song_data\\\\A\\\\B\\\\A\\\\TRABAXV128F92F6AE3.json',\n",
       " 'c:\\\\Users\\\\brend\\\\Desktop\\\\UdacityProjects\\\\DataEngineer\\\\DataModelingProject\\\\data\\\\song_data\\\\A\\\\B\\\\A\\\\TRABAZH128F930419A.json',\n",
       " 'c:\\\\Users\\\\brend\\\\Desktop\\\\UdacityProjects\\\\DataEngineer\\\\DataModelingProject\\\\data\\\\song_data\\\\A\\\\B\\\\B\\\\TRABBAM128F429D223.json',\n",
       " 'c:\\\\Users\\\\brend\\\\Desktop\\\\UdacityProjects\\\\DataEngineer\\\\DataModelingProject\\\\data\\\\song_data\\\\A\\\\B\\\\B\\\\TRABBBV128F42967D7.json',\n",
       " 'c:\\\\Users\\\\brend\\\\Desktop\\\\UdacityProjects\\\\DataEngineer\\\\DataModelingProject\\\\data\\\\song_data\\\\A\\\\B\\\\B\\\\TRABBJE12903CDB442.json',\n",
       " 'c:\\\\Users\\\\brend\\\\Desktop\\\\UdacityProjects\\\\DataEngineer\\\\DataModelingProject\\\\data\\\\song_data\\\\A\\\\B\\\\B\\\\TRABBKX128F4285205.json',\n",
       " 'c:\\\\Users\\\\brend\\\\Desktop\\\\UdacityProjects\\\\DataEngineer\\\\DataModelingProject\\\\data\\\\song_data\\\\A\\\\B\\\\B\\\\TRABBLU128F93349CF.json',\n",
       " 'c:\\\\Users\\\\brend\\\\Desktop\\\\UdacityProjects\\\\DataEngineer\\\\DataModelingProject\\\\data\\\\song_data\\\\A\\\\B\\\\B\\\\TRABBNP128F932546F.json',\n",
       " 'c:\\\\Users\\\\brend\\\\Desktop\\\\UdacityProjects\\\\DataEngineer\\\\DataModelingProject\\\\data\\\\song_data\\\\A\\\\B\\\\B\\\\TRABBOP128F931B50D.json',\n",
       " 'c:\\\\Users\\\\brend\\\\Desktop\\\\UdacityProjects\\\\DataEngineer\\\\DataModelingProject\\\\data\\\\song_data\\\\A\\\\B\\\\B\\\\TRABBOR128F4286200.json',\n",
       " 'c:\\\\Users\\\\brend\\\\Desktop\\\\UdacityProjects\\\\DataEngineer\\\\DataModelingProject\\\\data\\\\song_data\\\\A\\\\B\\\\B\\\\TRABBTA128F933D304.json',\n",
       " 'c:\\\\Users\\\\brend\\\\Desktop\\\\UdacityProjects\\\\DataEngineer\\\\DataModelingProject\\\\data\\\\song_data\\\\A\\\\B\\\\B\\\\TRABBVJ128F92F7EAA.json',\n",
       " 'c:\\\\Users\\\\brend\\\\Desktop\\\\UdacityProjects\\\\DataEngineer\\\\DataModelingProject\\\\data\\\\song_data\\\\A\\\\B\\\\B\\\\TRABBXU128F92FEF48.json',\n",
       " 'c:\\\\Users\\\\brend\\\\Desktop\\\\UdacityProjects\\\\DataEngineer\\\\DataModelingProject\\\\data\\\\song_data\\\\A\\\\B\\\\B\\\\TRABBZN12903CD9297.json',\n",
       " 'c:\\\\Users\\\\brend\\\\Desktop\\\\UdacityProjects\\\\DataEngineer\\\\DataModelingProject\\\\data\\\\song_data\\\\A\\\\B\\\\C\\\\TRABCAJ12903CDFCC2.json',\n",
       " 'c:\\\\Users\\\\brend\\\\Desktop\\\\UdacityProjects\\\\DataEngineer\\\\DataModelingProject\\\\data\\\\song_data\\\\A\\\\B\\\\C\\\\TRABCEC128F426456E.json',\n",
       " 'c:\\\\Users\\\\brend\\\\Desktop\\\\UdacityProjects\\\\DataEngineer\\\\DataModelingProject\\\\data\\\\song_data\\\\A\\\\B\\\\C\\\\TRABCEI128F424C983.json',\n",
       " 'c:\\\\Users\\\\brend\\\\Desktop\\\\UdacityProjects\\\\DataEngineer\\\\DataModelingProject\\\\data\\\\song_data\\\\A\\\\B\\\\C\\\\TRABCFL128F149BB0D.json',\n",
       " 'c:\\\\Users\\\\brend\\\\Desktop\\\\UdacityProjects\\\\DataEngineer\\\\DataModelingProject\\\\data\\\\song_data\\\\A\\\\B\\\\C\\\\TRABCIX128F4265903.json',\n",
       " 'c:\\\\Users\\\\brend\\\\Desktop\\\\UdacityProjects\\\\DataEngineer\\\\DataModelingProject\\\\data\\\\song_data\\\\A\\\\B\\\\C\\\\TRABCKL128F423A778.json',\n",
       " 'c:\\\\Users\\\\brend\\\\Desktop\\\\UdacityProjects\\\\DataEngineer\\\\DataModelingProject\\\\data\\\\song_data\\\\A\\\\B\\\\C\\\\TRABCPZ128F4275C32.json',\n",
       " 'c:\\\\Users\\\\brend\\\\Desktop\\\\UdacityProjects\\\\DataEngineer\\\\DataModelingProject\\\\data\\\\song_data\\\\A\\\\B\\\\C\\\\TRABCRU128F423F449.json',\n",
       " 'c:\\\\Users\\\\brend\\\\Desktop\\\\UdacityProjects\\\\DataEngineer\\\\DataModelingProject\\\\data\\\\song_data\\\\A\\\\B\\\\C\\\\TRABCTK128F934B224.json',\n",
       " 'c:\\\\Users\\\\brend\\\\Desktop\\\\UdacityProjects\\\\DataEngineer\\\\DataModelingProject\\\\data\\\\song_data\\\\A\\\\B\\\\C\\\\TRABCUQ128E0783E2B.json',\n",
       " 'c:\\\\Users\\\\brend\\\\Desktop\\\\UdacityProjects\\\\DataEngineer\\\\DataModelingProject\\\\data\\\\song_data\\\\A\\\\B\\\\C\\\\TRABCXB128F4286BD3.json',\n",
       " 'c:\\\\Users\\\\brend\\\\Desktop\\\\UdacityProjects\\\\DataEngineer\\\\DataModelingProject\\\\data\\\\song_data\\\\A\\\\B\\\\C\\\\TRABCYE128F934CE1D.json']"
      ]
     },
     "metadata": {},
     "execution_count": 76
    }
   ],
   "metadata": {}
  },
  {
   "cell_type": "code",
   "execution_count": 77,
   "source": [
    "filepath = song_files[0]\r\n",
    "filepath"
   ],
   "outputs": [
    {
     "output_type": "execute_result",
     "data": {
      "text/plain": [
       "'c:\\\\Users\\\\brend\\\\Desktop\\\\UdacityProjects\\\\DataEngineer\\\\DataModelingProject\\\\data\\\\song_data\\\\A\\\\A\\\\A\\\\TRAAAAW128F429D538.json'"
      ]
     },
     "metadata": {},
     "execution_count": 77
    }
   ],
   "metadata": {}
  },
  {
   "cell_type": "code",
   "execution_count": 78,
   "source": [
    "df = pd.read_json(filepath, lines=True)\r\n",
    "df.head()"
   ],
   "outputs": [
    {
     "output_type": "execute_result",
     "data": {
      "text/plain": [
       "   num_songs           artist_id  artist_latitude  artist_longitude  \\\n",
       "0          1  ARD7TVE1187B99BFB1              NaN               NaN   \n",
       "\n",
       "   artist_location artist_name             song_id             title  \\\n",
       "0  California - LA      Casual  SOMZWCG12A8C13C480  I Didn't Mean To   \n",
       "\n",
       "    duration  year  \n",
       "0  218.93179     0  "
      ],
      "text/html": [
       "<div>\n",
       "<style scoped>\n",
       "    .dataframe tbody tr th:only-of-type {\n",
       "        vertical-align: middle;\n",
       "    }\n",
       "\n",
       "    .dataframe tbody tr th {\n",
       "        vertical-align: top;\n",
       "    }\n",
       "\n",
       "    .dataframe thead th {\n",
       "        text-align: right;\n",
       "    }\n",
       "</style>\n",
       "<table border=\"1\" class=\"dataframe\">\n",
       "  <thead>\n",
       "    <tr style=\"text-align: right;\">\n",
       "      <th></th>\n",
       "      <th>num_songs</th>\n",
       "      <th>artist_id</th>\n",
       "      <th>artist_latitude</th>\n",
       "      <th>artist_longitude</th>\n",
       "      <th>artist_location</th>\n",
       "      <th>artist_name</th>\n",
       "      <th>song_id</th>\n",
       "      <th>title</th>\n",
       "      <th>duration</th>\n",
       "      <th>year</th>\n",
       "    </tr>\n",
       "  </thead>\n",
       "  <tbody>\n",
       "    <tr>\n",
       "      <th>0</th>\n",
       "      <td>1</td>\n",
       "      <td>ARD7TVE1187B99BFB1</td>\n",
       "      <td>NaN</td>\n",
       "      <td>NaN</td>\n",
       "      <td>California - LA</td>\n",
       "      <td>Casual</td>\n",
       "      <td>SOMZWCG12A8C13C480</td>\n",
       "      <td>I Didn't Mean To</td>\n",
       "      <td>218.93179</td>\n",
       "      <td>0</td>\n",
       "    </tr>\n",
       "  </tbody>\n",
       "</table>\n",
       "</div>"
      ]
     },
     "metadata": {},
     "execution_count": 78
    }
   ],
   "metadata": {}
  },
  {
   "cell_type": "markdown",
   "source": [
    "## #1: `songs` Table\n",
    "#### Extract Data for Songs Table\n",
    "- Select columns for song ID, title, artist ID, year, and duration\n",
    "- Use `df.values` to select just the values from the dataframe\n",
    "- Index to select the first (only) record in the dataframe\n",
    "- Convert the array to a list and set it to `song_data`"
   ],
   "metadata": {}
  },
  {
   "cell_type": "code",
   "execution_count": 79,
   "source": [
    "song_data = df[['song_id', 'title', 'artist_id', 'year', 'duration']].values.tolist()[0]\r\n",
    "song_table_insert"
   ],
   "outputs": [
    {
     "output_type": "execute_result",
     "data": {
      "text/plain": [
       "'\\nINSERT INTO songs VALUES (%s, %s, %s, %s, %s)\\n'"
      ]
     },
     "metadata": {},
     "execution_count": 79
    }
   ],
   "metadata": {}
  },
  {
   "cell_type": "markdown",
   "source": [
    "#### Insert Record into Song Table\n",
    "Implement the `song_table_insert` query in `sql_queries.py` and run the cell below to insert a record for this song into the `songs` table. Remember to run `create_tables.py` before running the cell below to ensure you've created/resetted the `songs` table in the sparkify database."
   ],
   "metadata": {}
  },
  {
   "cell_type": "code",
   "execution_count": 80,
   "source": [
    "cur.execute(song_table_insert, song_data)\r\n",
    "conn.commit()"
   ],
   "outputs": [],
   "metadata": {}
  },
  {
   "cell_type": "markdown",
   "source": [
    "Run `test.ipynb` to see if you've successfully added a record to this table."
   ],
   "metadata": {}
  },
  {
   "cell_type": "markdown",
   "source": [
    "## #2: `artists` Table\n",
    "#### Extract Data for Artists Table\n",
    "- Select columns for artist ID, name, location, latitude, and longitude\n",
    "- Use `df.values` to select just the values from the dataframe\n",
    "- Index to select the first (only) record in the dataframe\n",
    "- Convert the array to a list and set it to `artist_data`"
   ],
   "metadata": {}
  },
  {
   "cell_type": "code",
   "execution_count": 81,
   "source": [
    "artist_data = df[['artist_id', 'artist_name', 'artist_location', 'artist_latitude', 'artist_longitude']].values.tolist()[0]\r\n",
    "artist_data"
   ],
   "outputs": [
    {
     "output_type": "execute_result",
     "data": {
      "text/plain": [
       "['ARD7TVE1187B99BFB1', 'Casual', 'California - LA', nan, nan]"
      ]
     },
     "metadata": {},
     "execution_count": 81
    }
   ],
   "metadata": {}
  },
  {
   "cell_type": "markdown",
   "source": [
    "#### Insert Record into Artist Table\n",
    "Implement the `artist_table_insert` query in `sql_queries.py` and run the cell below to insert a record for this song's artist into the `artists` table. Remember to run `create_tables.py` before running the cell below to ensure you've created/resetted the `artists` table in the sparkify database."
   ],
   "metadata": {}
  },
  {
   "cell_type": "code",
   "execution_count": 82,
   "source": [
    "cur.execute(artist_table_insert, artist_data)\r\n",
    "conn.commit()"
   ],
   "outputs": [],
   "metadata": {}
  },
  {
   "cell_type": "markdown",
   "source": [
    "Run `test.ipynb` to see if you've successfully added a record to this table."
   ],
   "metadata": {}
  },
  {
   "cell_type": "markdown",
   "source": [
    "# Process `log_data`\n",
    "In this part, you'll perform ETL on the second dataset, `log_data`, to create the `time` and `users` dimensional tables, as well as the `songplays` fact table.\n",
    "\n",
    "Let's perform ETL on a single log file and load a single record into each table.\n",
    "- Use the `get_files` function provided above to get a list of all log JSON files in `data/log_data`\n",
    "- Select the first log file in this list\n",
    "- Read the log file and view the data"
   ],
   "metadata": {}
  },
  {
   "cell_type": "code",
   "execution_count": 83,
   "source": [
    "log_files = get_files(r'data/log_data')"
   ],
   "outputs": [],
   "metadata": {}
  },
  {
   "cell_type": "code",
   "execution_count": 84,
   "source": [
    "filepath = log_files[0]\r\n",
    "filepath"
   ],
   "outputs": [
    {
     "output_type": "execute_result",
     "data": {
      "text/plain": [
       "'c:\\\\Users\\\\brend\\\\Desktop\\\\UdacityProjects\\\\DataEngineer\\\\DataModelingProject\\\\data\\\\log_data\\\\2018\\\\11\\\\2018-11-01-events.json'"
      ]
     },
     "metadata": {},
     "execution_count": 84
    }
   ],
   "metadata": {}
  },
  {
   "cell_type": "code",
   "execution_count": 85,
   "source": [
    "df = pd.read_json(filepath, lines=True)\r\n",
    "df.head()"
   ],
   "outputs": [
    {
     "output_type": "execute_result",
     "data": {
      "text/plain": [
       "    artist       auth firstName gender  itemInSession lastName     length  \\\n",
       "0     None  Logged In    Walter      M              0     Frye        NaN   \n",
       "1     None  Logged In    Kaylee      F              0  Summers        NaN   \n",
       "2  Des'ree  Logged In    Kaylee      F              1  Summers  246.30812   \n",
       "3     None  Logged In    Kaylee      F              2  Summers        NaN   \n",
       "4  Mr Oizo  Logged In    Kaylee      F              3  Summers  144.03873   \n",
       "\n",
       "  level                           location method      page   registration  \\\n",
       "0  free  San Francisco-Oakland-Hayward, CA    GET      Home  1540919166796   \n",
       "1  free        Phoenix-Mesa-Scottsdale, AZ    GET      Home  1540344794796   \n",
       "2  free        Phoenix-Mesa-Scottsdale, AZ    PUT  NextSong  1540344794796   \n",
       "3  free        Phoenix-Mesa-Scottsdale, AZ    GET   Upgrade  1540344794796   \n",
       "4  free        Phoenix-Mesa-Scottsdale, AZ    PUT  NextSong  1540344794796   \n",
       "\n",
       "   sessionId          song  status             ts  \\\n",
       "0         38          None     200  1541105830796   \n",
       "1        139          None     200  1541106106796   \n",
       "2        139  You Gotta Be     200  1541106106796   \n",
       "3        139          None     200  1541106132796   \n",
       "4        139       Flat 55     200  1541106352796   \n",
       "\n",
       "                                           userAgent  userId  \n",
       "0  \"Mozilla/5.0 (Macintosh; Intel Mac OS X 10_9_4...      39  \n",
       "1  \"Mozilla/5.0 (Windows NT 6.1; WOW64) AppleWebK...       8  \n",
       "2  \"Mozilla/5.0 (Windows NT 6.1; WOW64) AppleWebK...       8  \n",
       "3  \"Mozilla/5.0 (Windows NT 6.1; WOW64) AppleWebK...       8  \n",
       "4  \"Mozilla/5.0 (Windows NT 6.1; WOW64) AppleWebK...       8  "
      ],
      "text/html": [
       "<div>\n",
       "<style scoped>\n",
       "    .dataframe tbody tr th:only-of-type {\n",
       "        vertical-align: middle;\n",
       "    }\n",
       "\n",
       "    .dataframe tbody tr th {\n",
       "        vertical-align: top;\n",
       "    }\n",
       "\n",
       "    .dataframe thead th {\n",
       "        text-align: right;\n",
       "    }\n",
       "</style>\n",
       "<table border=\"1\" class=\"dataframe\">\n",
       "  <thead>\n",
       "    <tr style=\"text-align: right;\">\n",
       "      <th></th>\n",
       "      <th>artist</th>\n",
       "      <th>auth</th>\n",
       "      <th>firstName</th>\n",
       "      <th>gender</th>\n",
       "      <th>itemInSession</th>\n",
       "      <th>lastName</th>\n",
       "      <th>length</th>\n",
       "      <th>level</th>\n",
       "      <th>location</th>\n",
       "      <th>method</th>\n",
       "      <th>page</th>\n",
       "      <th>registration</th>\n",
       "      <th>sessionId</th>\n",
       "      <th>song</th>\n",
       "      <th>status</th>\n",
       "      <th>ts</th>\n",
       "      <th>userAgent</th>\n",
       "      <th>userId</th>\n",
       "    </tr>\n",
       "  </thead>\n",
       "  <tbody>\n",
       "    <tr>\n",
       "      <th>0</th>\n",
       "      <td>None</td>\n",
       "      <td>Logged In</td>\n",
       "      <td>Walter</td>\n",
       "      <td>M</td>\n",
       "      <td>0</td>\n",
       "      <td>Frye</td>\n",
       "      <td>NaN</td>\n",
       "      <td>free</td>\n",
       "      <td>San Francisco-Oakland-Hayward, CA</td>\n",
       "      <td>GET</td>\n",
       "      <td>Home</td>\n",
       "      <td>1540919166796</td>\n",
       "      <td>38</td>\n",
       "      <td>None</td>\n",
       "      <td>200</td>\n",
       "      <td>1541105830796</td>\n",
       "      <td>\"Mozilla/5.0 (Macintosh; Intel Mac OS X 10_9_4...</td>\n",
       "      <td>39</td>\n",
       "    </tr>\n",
       "    <tr>\n",
       "      <th>1</th>\n",
       "      <td>None</td>\n",
       "      <td>Logged In</td>\n",
       "      <td>Kaylee</td>\n",
       "      <td>F</td>\n",
       "      <td>0</td>\n",
       "      <td>Summers</td>\n",
       "      <td>NaN</td>\n",
       "      <td>free</td>\n",
       "      <td>Phoenix-Mesa-Scottsdale, AZ</td>\n",
       "      <td>GET</td>\n",
       "      <td>Home</td>\n",
       "      <td>1540344794796</td>\n",
       "      <td>139</td>\n",
       "      <td>None</td>\n",
       "      <td>200</td>\n",
       "      <td>1541106106796</td>\n",
       "      <td>\"Mozilla/5.0 (Windows NT 6.1; WOW64) AppleWebK...</td>\n",
       "      <td>8</td>\n",
       "    </tr>\n",
       "    <tr>\n",
       "      <th>2</th>\n",
       "      <td>Des'ree</td>\n",
       "      <td>Logged In</td>\n",
       "      <td>Kaylee</td>\n",
       "      <td>F</td>\n",
       "      <td>1</td>\n",
       "      <td>Summers</td>\n",
       "      <td>246.30812</td>\n",
       "      <td>free</td>\n",
       "      <td>Phoenix-Mesa-Scottsdale, AZ</td>\n",
       "      <td>PUT</td>\n",
       "      <td>NextSong</td>\n",
       "      <td>1540344794796</td>\n",
       "      <td>139</td>\n",
       "      <td>You Gotta Be</td>\n",
       "      <td>200</td>\n",
       "      <td>1541106106796</td>\n",
       "      <td>\"Mozilla/5.0 (Windows NT 6.1; WOW64) AppleWebK...</td>\n",
       "      <td>8</td>\n",
       "    </tr>\n",
       "    <tr>\n",
       "      <th>3</th>\n",
       "      <td>None</td>\n",
       "      <td>Logged In</td>\n",
       "      <td>Kaylee</td>\n",
       "      <td>F</td>\n",
       "      <td>2</td>\n",
       "      <td>Summers</td>\n",
       "      <td>NaN</td>\n",
       "      <td>free</td>\n",
       "      <td>Phoenix-Mesa-Scottsdale, AZ</td>\n",
       "      <td>GET</td>\n",
       "      <td>Upgrade</td>\n",
       "      <td>1540344794796</td>\n",
       "      <td>139</td>\n",
       "      <td>None</td>\n",
       "      <td>200</td>\n",
       "      <td>1541106132796</td>\n",
       "      <td>\"Mozilla/5.0 (Windows NT 6.1; WOW64) AppleWebK...</td>\n",
       "      <td>8</td>\n",
       "    </tr>\n",
       "    <tr>\n",
       "      <th>4</th>\n",
       "      <td>Mr Oizo</td>\n",
       "      <td>Logged In</td>\n",
       "      <td>Kaylee</td>\n",
       "      <td>F</td>\n",
       "      <td>3</td>\n",
       "      <td>Summers</td>\n",
       "      <td>144.03873</td>\n",
       "      <td>free</td>\n",
       "      <td>Phoenix-Mesa-Scottsdale, AZ</td>\n",
       "      <td>PUT</td>\n",
       "      <td>NextSong</td>\n",
       "      <td>1540344794796</td>\n",
       "      <td>139</td>\n",
       "      <td>Flat 55</td>\n",
       "      <td>200</td>\n",
       "      <td>1541106352796</td>\n",
       "      <td>\"Mozilla/5.0 (Windows NT 6.1; WOW64) AppleWebK...</td>\n",
       "      <td>8</td>\n",
       "    </tr>\n",
       "  </tbody>\n",
       "</table>\n",
       "</div>"
      ]
     },
     "metadata": {},
     "execution_count": 85
    }
   ],
   "metadata": {}
  },
  {
   "cell_type": "markdown",
   "source": [
    "## #3: `time` Table\n",
    "#### Extract Data for Time Table\n",
    "- Filter records by `NextSong` action\n",
    "- Convert the `ts` timestamp column to datetime\n",
    "  - Hint: the current timestamp is in milliseconds\n",
    "- Extract the timestamp, hour, day, week of year, month, year, and weekday from the `ts` column and set `time_data` to a list containing these values in order\n",
    "  - Hint: use pandas' [`dt` attribute](https://pandas.pydata.org/pandas-docs/stable/reference/api/pandas.Series.dt.html) to access easily datetimelike properties.\n",
    "- Specify labels for these columns and set to `column_labels`\n",
    "- Create a dataframe, `time_df,` containing the time data for this file by combining `column_labels` and `time_data` into a dictionary and converting this into a dataframe"
   ],
   "metadata": {}
  },
  {
   "cell_type": "code",
   "execution_count": 86,
   "source": [
    "df = df.loc[df.page == 'NextSong', :]\r\n",
    "df.head()"
   ],
   "outputs": [
    {
     "output_type": "execute_result",
     "data": {
      "text/plain": [
       "              artist       auth firstName gender  itemInSession lastName  \\\n",
       "2            Des'ree  Logged In    Kaylee      F              1  Summers   \n",
       "4            Mr Oizo  Logged In    Kaylee      F              3  Summers   \n",
       "5         Tamba Trio  Logged In    Kaylee      F              4  Summers   \n",
       "6     The Mars Volta  Logged In    Kaylee      F              5  Summers   \n",
       "7  Infected Mushroom  Logged In    Kaylee      F              6  Summers   \n",
       "\n",
       "      length level                     location method      page  \\\n",
       "2  246.30812  free  Phoenix-Mesa-Scottsdale, AZ    PUT  NextSong   \n",
       "4  144.03873  free  Phoenix-Mesa-Scottsdale, AZ    PUT  NextSong   \n",
       "5  177.18812  free  Phoenix-Mesa-Scottsdale, AZ    PUT  NextSong   \n",
       "6  380.42077  free  Phoenix-Mesa-Scottsdale, AZ    PUT  NextSong   \n",
       "7  440.26730  free  Phoenix-Mesa-Scottsdale, AZ    PUT  NextSong   \n",
       "\n",
       "    registration  sessionId                          song  status  \\\n",
       "2  1540344794796        139                  You Gotta Be     200   \n",
       "4  1540344794796        139                       Flat 55     200   \n",
       "5  1540344794796        139  Quem Quiser Encontrar O Amor     200   \n",
       "6  1540344794796        139                     Eriatarka     200   \n",
       "7  1540344794796        139               Becoming Insane     200   \n",
       "\n",
       "              ts                                          userAgent  userId  \n",
       "2  1541106106796  \"Mozilla/5.0 (Windows NT 6.1; WOW64) AppleWebK...       8  \n",
       "4  1541106352796  \"Mozilla/5.0 (Windows NT 6.1; WOW64) AppleWebK...       8  \n",
       "5  1541106496796  \"Mozilla/5.0 (Windows NT 6.1; WOW64) AppleWebK...       8  \n",
       "6  1541106673796  \"Mozilla/5.0 (Windows NT 6.1; WOW64) AppleWebK...       8  \n",
       "7  1541107053796  \"Mozilla/5.0 (Windows NT 6.1; WOW64) AppleWebK...       8  "
      ],
      "text/html": [
       "<div>\n",
       "<style scoped>\n",
       "    .dataframe tbody tr th:only-of-type {\n",
       "        vertical-align: middle;\n",
       "    }\n",
       "\n",
       "    .dataframe tbody tr th {\n",
       "        vertical-align: top;\n",
       "    }\n",
       "\n",
       "    .dataframe thead th {\n",
       "        text-align: right;\n",
       "    }\n",
       "</style>\n",
       "<table border=\"1\" class=\"dataframe\">\n",
       "  <thead>\n",
       "    <tr style=\"text-align: right;\">\n",
       "      <th></th>\n",
       "      <th>artist</th>\n",
       "      <th>auth</th>\n",
       "      <th>firstName</th>\n",
       "      <th>gender</th>\n",
       "      <th>itemInSession</th>\n",
       "      <th>lastName</th>\n",
       "      <th>length</th>\n",
       "      <th>level</th>\n",
       "      <th>location</th>\n",
       "      <th>method</th>\n",
       "      <th>page</th>\n",
       "      <th>registration</th>\n",
       "      <th>sessionId</th>\n",
       "      <th>song</th>\n",
       "      <th>status</th>\n",
       "      <th>ts</th>\n",
       "      <th>userAgent</th>\n",
       "      <th>userId</th>\n",
       "    </tr>\n",
       "  </thead>\n",
       "  <tbody>\n",
       "    <tr>\n",
       "      <th>2</th>\n",
       "      <td>Des'ree</td>\n",
       "      <td>Logged In</td>\n",
       "      <td>Kaylee</td>\n",
       "      <td>F</td>\n",
       "      <td>1</td>\n",
       "      <td>Summers</td>\n",
       "      <td>246.30812</td>\n",
       "      <td>free</td>\n",
       "      <td>Phoenix-Mesa-Scottsdale, AZ</td>\n",
       "      <td>PUT</td>\n",
       "      <td>NextSong</td>\n",
       "      <td>1540344794796</td>\n",
       "      <td>139</td>\n",
       "      <td>You Gotta Be</td>\n",
       "      <td>200</td>\n",
       "      <td>1541106106796</td>\n",
       "      <td>\"Mozilla/5.0 (Windows NT 6.1; WOW64) AppleWebK...</td>\n",
       "      <td>8</td>\n",
       "    </tr>\n",
       "    <tr>\n",
       "      <th>4</th>\n",
       "      <td>Mr Oizo</td>\n",
       "      <td>Logged In</td>\n",
       "      <td>Kaylee</td>\n",
       "      <td>F</td>\n",
       "      <td>3</td>\n",
       "      <td>Summers</td>\n",
       "      <td>144.03873</td>\n",
       "      <td>free</td>\n",
       "      <td>Phoenix-Mesa-Scottsdale, AZ</td>\n",
       "      <td>PUT</td>\n",
       "      <td>NextSong</td>\n",
       "      <td>1540344794796</td>\n",
       "      <td>139</td>\n",
       "      <td>Flat 55</td>\n",
       "      <td>200</td>\n",
       "      <td>1541106352796</td>\n",
       "      <td>\"Mozilla/5.0 (Windows NT 6.1; WOW64) AppleWebK...</td>\n",
       "      <td>8</td>\n",
       "    </tr>\n",
       "    <tr>\n",
       "      <th>5</th>\n",
       "      <td>Tamba Trio</td>\n",
       "      <td>Logged In</td>\n",
       "      <td>Kaylee</td>\n",
       "      <td>F</td>\n",
       "      <td>4</td>\n",
       "      <td>Summers</td>\n",
       "      <td>177.18812</td>\n",
       "      <td>free</td>\n",
       "      <td>Phoenix-Mesa-Scottsdale, AZ</td>\n",
       "      <td>PUT</td>\n",
       "      <td>NextSong</td>\n",
       "      <td>1540344794796</td>\n",
       "      <td>139</td>\n",
       "      <td>Quem Quiser Encontrar O Amor</td>\n",
       "      <td>200</td>\n",
       "      <td>1541106496796</td>\n",
       "      <td>\"Mozilla/5.0 (Windows NT 6.1; WOW64) AppleWebK...</td>\n",
       "      <td>8</td>\n",
       "    </tr>\n",
       "    <tr>\n",
       "      <th>6</th>\n",
       "      <td>The Mars Volta</td>\n",
       "      <td>Logged In</td>\n",
       "      <td>Kaylee</td>\n",
       "      <td>F</td>\n",
       "      <td>5</td>\n",
       "      <td>Summers</td>\n",
       "      <td>380.42077</td>\n",
       "      <td>free</td>\n",
       "      <td>Phoenix-Mesa-Scottsdale, AZ</td>\n",
       "      <td>PUT</td>\n",
       "      <td>NextSong</td>\n",
       "      <td>1540344794796</td>\n",
       "      <td>139</td>\n",
       "      <td>Eriatarka</td>\n",
       "      <td>200</td>\n",
       "      <td>1541106673796</td>\n",
       "      <td>\"Mozilla/5.0 (Windows NT 6.1; WOW64) AppleWebK...</td>\n",
       "      <td>8</td>\n",
       "    </tr>\n",
       "    <tr>\n",
       "      <th>7</th>\n",
       "      <td>Infected Mushroom</td>\n",
       "      <td>Logged In</td>\n",
       "      <td>Kaylee</td>\n",
       "      <td>F</td>\n",
       "      <td>6</td>\n",
       "      <td>Summers</td>\n",
       "      <td>440.26730</td>\n",
       "      <td>free</td>\n",
       "      <td>Phoenix-Mesa-Scottsdale, AZ</td>\n",
       "      <td>PUT</td>\n",
       "      <td>NextSong</td>\n",
       "      <td>1540344794796</td>\n",
       "      <td>139</td>\n",
       "      <td>Becoming Insane</td>\n",
       "      <td>200</td>\n",
       "      <td>1541107053796</td>\n",
       "      <td>\"Mozilla/5.0 (Windows NT 6.1; WOW64) AppleWebK...</td>\n",
       "      <td>8</td>\n",
       "    </tr>\n",
       "  </tbody>\n",
       "</table>\n",
       "</div>"
      ]
     },
     "metadata": {},
     "execution_count": 86
    }
   ],
   "metadata": {}
  },
  {
   "cell_type": "code",
   "execution_count": 87,
   "source": [
    "t = pd.to_datetime(df['ts'], unit='ms')\r\n",
    "t.head()"
   ],
   "outputs": [
    {
     "output_type": "execute_result",
     "data": {
      "text/plain": [
       "2   2018-11-01 21:01:46.796\n",
       "4   2018-11-01 21:05:52.796\n",
       "5   2018-11-01 21:08:16.796\n",
       "6   2018-11-01 21:11:13.796\n",
       "7   2018-11-01 21:17:33.796\n",
       "Name: ts, dtype: datetime64[ns]"
      ]
     },
     "metadata": {},
     "execution_count": 87
    }
   ],
   "metadata": {}
  },
  {
   "cell_type": "code",
   "execution_count": 88,
   "source": [
    "time_data = (t.tolist(), t.dt.hour.tolist(), t.dt.day.tolist(), t.dt.week.tolist(), t.dt.month.tolist(), t.dt.month.tolist(), t.dt.weekday.tolist())\r\n",
    "column_labels = ('start_time', 'hour', 'day', 'week', 'month', 'year', 'weekday')\r\n",
    "time_data"
   ],
   "outputs": [
    {
     "output_type": "stream",
     "name": "stderr",
     "text": [
      "<ipython-input-88-609d8b22fa92>:1: FutureWarning: Series.dt.weekofyear and Series.dt.week have been deprecated.  Please use Series.dt.isocalendar().week instead.\n",
      "  time_data = (t.tolist(), t.dt.hour.tolist(), t.dt.day.tolist(), t.dt.week.tolist(), t.dt.month.tolist(), t.dt.month.tolist(), t.dt.weekday.tolist())\n"
     ]
    },
    {
     "output_type": "execute_result",
     "data": {
      "text/plain": [
       "([Timestamp('2018-11-01 21:01:46.796000'),\n",
       "  Timestamp('2018-11-01 21:05:52.796000'),\n",
       "  Timestamp('2018-11-01 21:08:16.796000'),\n",
       "  Timestamp('2018-11-01 21:11:13.796000'),\n",
       "  Timestamp('2018-11-01 21:17:33.796000'),\n",
       "  Timestamp('2018-11-01 21:24:53.796000'),\n",
       "  Timestamp('2018-11-01 21:28:54.796000'),\n",
       "  Timestamp('2018-11-01 21:42:00.796000'),\n",
       "  Timestamp('2018-11-01 21:52:05.796000'),\n",
       "  Timestamp('2018-11-01 21:55:25.796000'),\n",
       "  Timestamp('2018-11-01 22:23:14.796000')],\n",
       " [21, 21, 21, 21, 21, 21, 21, 21, 21, 21, 22],\n",
       " [1, 1, 1, 1, 1, 1, 1, 1, 1, 1, 1],\n",
       " [44, 44, 44, 44, 44, 44, 44, 44, 44, 44, 44],\n",
       " [11, 11, 11, 11, 11, 11, 11, 11, 11, 11, 11],\n",
       " [11, 11, 11, 11, 11, 11, 11, 11, 11, 11, 11],\n",
       " [3, 3, 3, 3, 3, 3, 3, 3, 3, 3, 3])"
      ]
     },
     "metadata": {},
     "execution_count": 88
    }
   ],
   "metadata": {}
  },
  {
   "cell_type": "code",
   "execution_count": 89,
   "source": [
    "time_df = pd.DataFrame(dict(zip(column_labels, [time_data[0], time_data[1], time_data[2], time_data[3], time_data[4], time_data[5], time_data[6]]))) \r\n",
    "time_df.head()"
   ],
   "outputs": [
    {
     "output_type": "execute_result",
     "data": {
      "text/plain": [
       "               start_time  hour  day  week  month  year  weekday\n",
       "0 2018-11-01 21:01:46.796    21    1    44     11    11        3\n",
       "1 2018-11-01 21:05:52.796    21    1    44     11    11        3\n",
       "2 2018-11-01 21:08:16.796    21    1    44     11    11        3\n",
       "3 2018-11-01 21:11:13.796    21    1    44     11    11        3\n",
       "4 2018-11-01 21:17:33.796    21    1    44     11    11        3"
      ],
      "text/html": [
       "<div>\n",
       "<style scoped>\n",
       "    .dataframe tbody tr th:only-of-type {\n",
       "        vertical-align: middle;\n",
       "    }\n",
       "\n",
       "    .dataframe tbody tr th {\n",
       "        vertical-align: top;\n",
       "    }\n",
       "\n",
       "    .dataframe thead th {\n",
       "        text-align: right;\n",
       "    }\n",
       "</style>\n",
       "<table border=\"1\" class=\"dataframe\">\n",
       "  <thead>\n",
       "    <tr style=\"text-align: right;\">\n",
       "      <th></th>\n",
       "      <th>start_time</th>\n",
       "      <th>hour</th>\n",
       "      <th>day</th>\n",
       "      <th>week</th>\n",
       "      <th>month</th>\n",
       "      <th>year</th>\n",
       "      <th>weekday</th>\n",
       "    </tr>\n",
       "  </thead>\n",
       "  <tbody>\n",
       "    <tr>\n",
       "      <th>0</th>\n",
       "      <td>2018-11-01 21:01:46.796</td>\n",
       "      <td>21</td>\n",
       "      <td>1</td>\n",
       "      <td>44</td>\n",
       "      <td>11</td>\n",
       "      <td>11</td>\n",
       "      <td>3</td>\n",
       "    </tr>\n",
       "    <tr>\n",
       "      <th>1</th>\n",
       "      <td>2018-11-01 21:05:52.796</td>\n",
       "      <td>21</td>\n",
       "      <td>1</td>\n",
       "      <td>44</td>\n",
       "      <td>11</td>\n",
       "      <td>11</td>\n",
       "      <td>3</td>\n",
       "    </tr>\n",
       "    <tr>\n",
       "      <th>2</th>\n",
       "      <td>2018-11-01 21:08:16.796</td>\n",
       "      <td>21</td>\n",
       "      <td>1</td>\n",
       "      <td>44</td>\n",
       "      <td>11</td>\n",
       "      <td>11</td>\n",
       "      <td>3</td>\n",
       "    </tr>\n",
       "    <tr>\n",
       "      <th>3</th>\n",
       "      <td>2018-11-01 21:11:13.796</td>\n",
       "      <td>21</td>\n",
       "      <td>1</td>\n",
       "      <td>44</td>\n",
       "      <td>11</td>\n",
       "      <td>11</td>\n",
       "      <td>3</td>\n",
       "    </tr>\n",
       "    <tr>\n",
       "      <th>4</th>\n",
       "      <td>2018-11-01 21:17:33.796</td>\n",
       "      <td>21</td>\n",
       "      <td>1</td>\n",
       "      <td>44</td>\n",
       "      <td>11</td>\n",
       "      <td>11</td>\n",
       "      <td>3</td>\n",
       "    </tr>\n",
       "  </tbody>\n",
       "</table>\n",
       "</div>"
      ]
     },
     "metadata": {},
     "execution_count": 89
    }
   ],
   "metadata": {}
  },
  {
   "cell_type": "markdown",
   "source": [
    "#### Insert Records into Time Table\n",
    "Implement the `time_table_insert` query in `sql_queries.py` and run the cell below to insert records for the timestamps in this log file into the `time` table. Remember to run `create_tables.py` before running the cell below to ensure you've created/resetted the `time` table in the sparkify database."
   ],
   "metadata": {}
  },
  {
   "cell_type": "code",
   "execution_count": 90,
   "source": [
    "for i, row in time_df.iterrows():\r\n",
    "    cur.execute(time_table_insert, list(row))\r\n",
    "    conn.commit()"
   ],
   "outputs": [],
   "metadata": {}
  },
  {
   "cell_type": "markdown",
   "source": [
    "Run `test.ipynb` to see if you've successfully added records to this table."
   ],
   "metadata": {}
  },
  {
   "cell_type": "markdown",
   "source": [
    "## #4: `users` Table\n",
    "#### Extract Data for Users Table\n",
    "- Select columns for user ID, first name, last name, gender and level and set to `user_df`"
   ],
   "metadata": {}
  },
  {
   "cell_type": "code",
   "execution_count": 91,
   "source": [
    "user_df = df[['userId', 'firstName', 'lastName', 'gender', 'level']]"
   ],
   "outputs": [],
   "metadata": {}
  },
  {
   "cell_type": "markdown",
   "source": [
    "#### Insert Records into Users Table\n",
    "Implement the `user_table_insert` query in `sql_queries.py` and run the cell below to insert records for the users in this log file into the `users` table. Remember to run `create_tables.py` before running the cell below to ensure you've created/resetted the `users` table in the sparkify database."
   ],
   "metadata": {}
  },
  {
   "cell_type": "code",
   "execution_count": 92,
   "source": [
    "for i, row in user_df.iterrows():\r\n",
    "    cur.execute(user_table_insert, row)\r\n",
    "    conn.commit()"
   ],
   "outputs": [],
   "metadata": {}
  },
  {
   "cell_type": "markdown",
   "source": [
    "Run `test.ipynb` to see if you've successfully added records to this table."
   ],
   "metadata": {}
  },
  {
   "cell_type": "markdown",
   "source": [
    "## #5: `songplays` Table\n",
    "#### Extract Data and Songplays Table\n",
    "This one is a little more complicated since information from the songs table, artists table, and original log file are all needed for the `songplays` table. Since the log file does not specify an ID for either the song or the artist, you'll need to get the song ID and artist ID by querying the songs and artists tables to find matches based on song title, artist name, and song duration time.\n",
    "- Implement the `song_select` query in `sql_queries.py` to find the song ID and artist ID based on the title, artist name, and duration of a song.\n",
    "- Select the timestamp, user ID, level, song ID, artist ID, session ID, location, and user agent and set to `songplay_data`\n",
    "\n",
    "#### Insert Records into Songplays Table\n",
    "- Implement the `songplay_table_insert` query and run the cell below to insert records for the songplay actions in this log file into the `songplays` table. Remember to run `create_tables.py` before running the cell below to ensure you've created/resetted the `songplays` table in the sparkify database."
   ],
   "metadata": {}
  },
  {
   "cell_type": "code",
   "execution_count": 94,
   "source": [
    "for index, row in df.iterrows():\r\n",
    "\r\n",
    "    # get songid and artistid from song and artist tables\r\n",
    "    cur.execute(song_select, (row.song, row.artist, row.length))\r\n",
    "    results = cur.fetchone()\r\n",
    "    print(song_select, (row.song, row.artist, row.length))\r\n",
    "    \r\n",
    "    if results:\r\n",
    "        songid, artistid = results\r\n",
    "    else:\r\n",
    "        songid, artistid = None, None\r\n",
    "\r\n",
    "    # insert songplay record\r\n",
    "    songplay_data = (pd.to_datetime(row['ts'], unit='ms'), row.userId, row.level, songid, artistid, row.sessionId, row.location, row.userAgent)\r\n",
    "    cur.execute(songplay_table_insert, songplay_data)\r\n",
    "    conn.commit()"
   ],
   "outputs": [
    {
     "output_type": "stream",
     "name": "stdout",
     "text": [
      "\n",
      "select song_id, a.artist_id\n",
      "from songs a\n",
      "join artists b\n",
      "on a.artist_id = b.artist_id\n",
      "where %s = a.title\n",
      "and %s = b.name\n",
      "and %s = duration;\n",
      " ('You Gotta Be', \"Des'ree\", 246.30812)\n",
      "\n",
      "select song_id, a.artist_id\n",
      "from songs a\n",
      "join artists b\n",
      "on a.artist_id = b.artist_id\n",
      "where %s = a.title\n",
      "and %s = b.name\n",
      "and %s = duration;\n",
      " ('Flat 55', 'Mr Oizo', 144.03873)\n",
      "\n",
      "select song_id, a.artist_id\n",
      "from songs a\n",
      "join artists b\n",
      "on a.artist_id = b.artist_id\n",
      "where %s = a.title\n",
      "and %s = b.name\n",
      "and %s = duration;\n",
      " ('Quem Quiser Encontrar O Amor', 'Tamba Trio', 177.18812)\n",
      "\n",
      "select song_id, a.artist_id\n",
      "from songs a\n",
      "join artists b\n",
      "on a.artist_id = b.artist_id\n",
      "where %s = a.title\n",
      "and %s = b.name\n",
      "and %s = duration;\n",
      " ('Eriatarka', 'The Mars Volta', 380.42077)\n",
      "\n",
      "select song_id, a.artist_id\n",
      "from songs a\n",
      "join artists b\n",
      "on a.artist_id = b.artist_id\n",
      "where %s = a.title\n",
      "and %s = b.name\n",
      "and %s = duration;\n",
      " ('Becoming Insane', 'Infected Mushroom', 440.2673)\n",
      "\n",
      "select song_id, a.artist_id\n",
      "from songs a\n",
      "join artists b\n",
      "on a.artist_id = b.artist_id\n",
      "where %s = a.title\n",
      "and %s = b.name\n",
      "and %s = duration;\n",
      " ('Congratulations', 'Blue October / Imogen Heap', 241.3971)\n",
      "\n",
      "select song_id, a.artist_id\n",
      "from songs a\n",
      "join artists b\n",
      "on a.artist_id = b.artist_id\n",
      "where %s = a.title\n",
      "and %s = b.name\n",
      "and %s = duration;\n",
      " ('Once again', 'Girl Talk', 160.15628)\n",
      "\n",
      "select song_id, a.artist_id\n",
      "from songs a\n",
      "join artists b\n",
      "on a.artist_id = b.artist_id\n",
      "where %s = a.title\n",
      "and %s = b.name\n",
      "and %s = duration;\n",
      " ('Pump It', 'Black Eyed Peas', 214.93506)\n",
      "\n",
      "select song_id, a.artist_id\n",
      "from songs a\n",
      "join artists b\n",
      "on a.artist_id = b.artist_id\n",
      "where %s = a.title\n",
      "and %s = b.name\n",
      "and %s = duration;\n",
      " ('Nobody Puts Baby In The Corner', 'Fall Out Boy', 200.72444)\n",
      "\n",
      "select song_id, a.artist_id\n",
      "from songs a\n",
      "join artists b\n",
      "on a.artist_id = b.artist_id\n",
      "where %s = a.title\n",
      "and %s = b.name\n",
      "and %s = duration;\n",
      " ('Mango Pickle Down River (With The Wilcannia Mob)', 'M.I.A.', 233.7171)\n",
      "\n",
      "select song_id, a.artist_id\n",
      "from songs a\n",
      "join artists b\n",
      "on a.artist_id = b.artist_id\n",
      "where %s = a.title\n",
      "and %s = b.name\n",
      "and %s = duration;\n",
      " ('Eye Of The Tiger', 'Survivor', 245.36771)\n"
     ]
    }
   ],
   "metadata": {}
  },
  {
   "cell_type": "code",
   "execution_count": 70,
   "source": [
    "print(songplay_table_insert)"
   ],
   "outputs": [
    {
     "output_type": "stream",
     "name": "stdout",
     "text": [
      "\n",
      "INSERT INTO songplays VALUES (%s, %s, %s, %s, %s, %s, %s, %s)\n",
      "\n"
     ]
    }
   ],
   "metadata": {}
  },
  {
   "cell_type": "markdown",
   "source": [
    "Run `test.ipynb` to see if you've successfully added records to this table."
   ],
   "metadata": {}
  },
  {
   "cell_type": "markdown",
   "source": [
    "# Close Connection to Sparkify Database"
   ],
   "metadata": {}
  },
  {
   "cell_type": "code",
   "execution_count": 95,
   "source": [
    "conn.close()"
   ],
   "outputs": [],
   "metadata": {}
  },
  {
   "cell_type": "markdown",
   "source": [
    "# Implement `etl.py`\n",
    "Use what you've completed in this notebook to implement `etl.py`."
   ],
   "metadata": {}
  },
  {
   "cell_type": "code",
   "execution_count": null,
   "source": [],
   "outputs": [],
   "metadata": {}
  }
 ],
 "metadata": {
  "kernelspec": {
   "name": "python3",
   "display_name": "Python 3.8.5 64-bit ('udacityDE': conda)"
  },
  "language_info": {
   "codemirror_mode": {
    "name": "ipython",
    "version": 3
   },
   "file_extension": ".py",
   "mimetype": "text/x-python",
   "name": "python",
   "nbconvert_exporter": "python",
   "pygments_lexer": "ipython3",
   "version": "3.8.5"
  },
  "interpreter": {
   "hash": "b752438d49ec44ef44b5842c0ae1022b6667e4815f7ff188da3a37c23550640a"
  }
 },
 "nbformat": 4,
 "nbformat_minor": 2
}